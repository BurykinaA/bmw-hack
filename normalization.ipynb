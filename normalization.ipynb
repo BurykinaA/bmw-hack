{
 "cells": [
  {
   "cell_type": "code",
   "execution_count": 2,
   "metadata": {},
   "outputs": [],
   "source": [
    "import numpy as np\n",
    "import pandas as pd\n",
    "from sklearn.preprocessing import QuantileTransformer, StandardScaler\n"
   ]
  },
  {
   "cell_type": "code",
   "execution_count": 33,
   "metadata": {},
   "outputs": [
    {
     "name": "stdout",
     "output_type": "stream",
     "text": [
      "[-10000000000.0, 0.0, 2.0, 2.0526315789473686, 2.1052631578947367, 2.1578947368421053, 2.2105263157894735, 2.263157894736842, 2.3157894736842106, 2.3684210526315788, 2.4210526315789473, 2.473684210526316, 2.526315789473684, 2.5789473684210527, 2.6315789473684212, 2.6842105263157894, 2.736842105263158, 2.7894736842105265, 2.8421052631578947, 2.894736842105263, 2.9473684210526314, 3.0, nan, nan, nan, nan, nan, 1e+20, inf, inf, inf]\n"
     ]
    }
   ],
   "source": [
    "data = np.concatenate(\n",
    "    [\n",
    "        np.linspace(2, 3, 20),\n",
    "        np.array([np.nan] * 5 + [np.inf] * 3 + [-1e10] + [1e20] + [0.0]),\n",
    "    ]\n",
    ")\n",
    "\n",
    "print(sorted(data))\n"
   ]
  },
  {
   "cell_type": "code",
   "execution_count": 40,
   "metadata": {},
   "outputs": [],
   "source": [
    "class SmartNormalizer:\n",
    "    def __init__(self, two_col=False):\n",
    "        self.quantile_transformer = QuantileTransformer(output_distribution=\"normal\")\n",
    "        self.two_col = two_col\n",
    "\n",
    "    def fit(self, data):\n",
    "        assert type(data) == np.ndarray\n",
    "        data = data.copy().ravel()\n",
    "        good_mask = np.isfinite(data)\n",
    "        data = data[good_mask]\n",
    "        data = data.reshape(-1, 1)\n",
    "        self.quantile_transformer.fit(data)\n",
    "\n",
    "    def transform(self, data):\n",
    "        data = data.copy().ravel()\n",
    "        good_mask = np.isfinite(data)\n",
    "        data[~good_mask] = 0\n",
    "        data = data.reshape(-1, 1)\n",
    "        first_col = self.quantile_transformer.transform(data)\n",
    "        data[~good_mask] = 0\n",
    "        if self.two_col:\n",
    "            second_col = good_mask.astype(np.float32).reshape(-1, 1)\n",
    "            return np.concatenate([first_col, second_col], axis=1)\n",
    "        else:\n",
    "            return first_col.reshape(-1, 1)\n"
   ]
  },
  {
   "cell_type": "code",
   "execution_count": 41,
   "metadata": {},
   "outputs": [
    {
     "name": "stdout",
     "output_type": "stream",
     "text": [
      "[1. 1. 1. 1. 1. 1. 1. 1. 1. 1. 1. 1. 1. 1. 1. 1. 1. 1. 1. 1. 0. 0. 0. 0.\n",
      " 0. 0. 0. 0. 1. 1. 1.]\n"
     ]
    },
    {
     "name": "stderr",
     "output_type": "stream",
     "text": [
      "/Users/mike/.pyenv/versions/3.10.14/lib/python3.10/site-packages/sklearn/preprocessing/_data.py:2785: UserWarning: n_quantiles (1000) is greater than the total number of samples (23). n_quantiles is set to n_samples.\n",
      "  warnings.warn(\n"
     ]
    },
    {
     "data": {
      "image/png": "[encoded data removed]",
      "text/plain": [
       "<Figure size 640x480 with 1 Axes>"
      ]
     },
     "metadata": {},
     "output_type": "display_data"
    }
   ],
   "source": [
    "normalizer = SmartNormalizer(two_col=True)\n",
    "normalizer.fit(data)\n",
    "print(normalizer.transform(data)[:, 1])\n",
    "\n",
    "import matplotlib.pyplot as plt\n",
    "\n",
    "plt.plot(data, normalizer.transform(data), \".\")\n",
    "plt.xlim(-10, 10)\n",
    "plt.ylim(-10, 10)\n",
    "plt.show()\n"
   ]
  }
 ],
 "metadata": {
  "kernelspec": {
   "display_name": "Python 3",
   "language": "python",
   "name": "python3"
  },
  "language_info": {
   "codemirror_mode": {
    "name": "ipython",
    "version": 3
   },
   "file_extension": ".py",
   "mimetype": "text/x-python",
   "name": "python",
   "nbconvert_exporter": "python",
   "pygments_lexer": "ipython3",
   "version": "3.10.14"
  }
 },
 "nbformat": 4,
 "nbformat_minor": 2
}
