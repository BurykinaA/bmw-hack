{
 "cells": [
  {
   "cell_type": "code",
   "execution_count": 35,
   "metadata": {},
   "outputs": [],
   "source": [
    "import numpy as np\n",
    "import pandas as pd\n",
    "from sklearn.preprocessing import OrdinalEncoder, QuantileTransformer\n",
    "\n",
    "\n",
    "class SmartNormalizer:\n",
    "    def __init__(self, two_col=False):\n",
    "        self.quantile_transformer = None\n",
    "        self.encoder = None\n",
    "        self.two_col = two_col\n",
    "        self.is_numeric = None\n",
    "\n",
    "    def fit(self, data):\n",
    "        assert type(data) == np.ndarray\n",
    "        data = data.copy().ravel()\n",
    "        self.is_numeric = data.dtype != np.dtype(\"O\")\n",
    "        if self.is_numeric:\n",
    "            good_mask = np.isfinite(data)\n",
    "            data = data[good_mask]\n",
    "            if not len(data):\n",
    "                data = np.zeros(1)\n",
    "            data = data.reshape(-1, 1)\n",
    "            self.quantile_transformer = QuantileTransformer(\n",
    "                output_distribution=\"normal\", n_quantiles=min(100, len(data))\n",
    "            )\n",
    "            self.quantile_transformer.fit(data)\n",
    "        else:\n",
    "            data = data.reshape(-1, 1)\n",
    "            self.encoder = OrdinalEncoder(\n",
    "                handle_unknown=\"use_encoded_value\",\n",
    "                unknown_value=-1,\n",
    "            )\n",
    "            self.encoder.fit(data)\n",
    "\n",
    "    def transform(self, data):\n",
    "        data = data.copy().ravel()\n",
    "        if self.is_numeric:\n",
    "            good_mask = np.isfinite(data)\n",
    "            data[~good_mask] = 0\n",
    "            data = data.reshape(-1, 1)\n",
    "            first_col = self.quantile_transformer.transform(data)\n",
    "        else:\n",
    "            good_mask = data != None\n",
    "            data = data.reshape(-1, 1)\n",
    "            first_col = self.encoder.transform(data)\n",
    "        if self.two_col:\n",
    "            second_col = good_mask.astype(np.float32).reshape(-1, 1)\n",
    "            return np.concatenate([first_col, second_col], axis=1)\n",
    "        else:\n",
    "            return first_col.reshape(-1, 1)\n",
    "\n",
    "\n",
    "class SmartNormalizerDF:\n",
    "    def __init__(self, two_col=False):\n",
    "        self.two_col = two_col\n",
    "        self.normalizers = {}\n",
    "\n",
    "    def fit(self, df):\n",
    "        for col in df.columns:\n",
    "            self.normalizers[col] = SmartNormalizer(self.two_col)\n",
    "            self.normalizers[col].fit(df[col].values)\n",
    "\n",
    "    def transform(self, df):\n",
    "        df = df.copy()\n",
    "        for i, col in enumerate(df.columns):\n",
    "            if self.two_col:\n",
    "                df[[col, col + \"_ok\"]] = self.normalizers[col].transform(df[col].values)\n",
    "            else:\n",
    "                df[col] = self.normalizers[col].transform(df[col].values)\n",
    "            if i % 10 == 0:\n",
    "                df = df.copy()\n",
    "        return df\n"
   ]
  },
  {
   "cell_type": "code",
   "execution_count": 60,
   "metadata": {},
   "outputs": [],
   "source": [
    "target_col = \"label\"  # \"status\"\n",
    "ok_val = 1  # \"OK\"\n",
    "important_columns = [\n",
    "    \"s8_sensor100_millimeter_step1\",\n",
    "    \"shift\",\n",
    "    \"weekday\",\n",
    "    \"s4_sensor16_minuten (zeit)_step1\",\n",
    "    \"s5_sensor0_sekunden (zeit)_step1\",\n",
    "    \"s10_sensor2_gramm_step1\",\n",
    "    \"s3_sensor0_km_step1\",\n",
    "    \"s7_sensor26_mikroohm_step1\",\n",
    "    \"s8_sensor32_millimeter_step1\",\n",
    "    \"s10_sensor0_minuten (zeit)_step1\",\n",
    "    \"temperature_2m\",\n",
    "    \"relative_humidity_2m\",\n",
    "    \"precipitation\",\n",
    "    \"pressure_msl\",\n",
    "]\n"
   ]
  },
  {
   "cell_type": "code",
   "execution_count": 61,
   "metadata": {},
   "outputs": [],
   "source": [
    "def add_weather_data(df):\n",
    "    weather_df = pd.read_csv(\"weather.csv\")\n",
    "    weather_df = weather_df.rename(columns={\"date\": \"message_timestamp\"})\n",
    "    # round message_timestamp to nearest hour, remove timezone from both\n",
    "    weather_df[\"message_timestamp\"] = weather_df[\"message_timestamp\"].apply(\n",
    "        lambda x: pd.Timestamp(x).tz_localize(None).round(\"h\")\n",
    "    )\n",
    "    df[\"message_timestamp\"] = df[\"message_timestamp\"].apply(\n",
    "        lambda x: pd.Timestamp(x).tz_localize(None).round(\"h\")\n",
    "    )\n",
    "    df = df.merge(weather_df, on=\"message_timestamp\", how=\"inner\")\n",
    "    return df\n"
   ]
  },
  {
   "cell_type": "code",
   "execution_count": 62,
   "metadata": {},
   "outputs": [],
   "source": [
    "df = pd.read_csv(\"train.csv\")\n",
    "df = add_weather_data(df).drop(columns=[\"message_timestamp\", \"physical_part_id\"])\n",
    "target = df[target_col] == ok_val\n",
    "df = df.drop(columns=[target_col])\n",
    "df = df[important_columns]\n",
    "df_train = df.sample(frac=0.8)\n",
    "df_valid = df.drop(df_train.index)\n",
    "\n",
    "smart_normalizer = SmartNormalizerDF(two_col=True)\n",
    "smart_normalizer.fit(df_train)\n",
    "df_train = smart_normalizer.transform(df_train)\n",
    "target_train = target[df_train.index]\n",
    "df_valid = smart_normalizer.transform(df_valid)\n",
    "target_valid = target[df_valid.index]\n"
   ]
  },
  {
   "cell_type": "code",
   "execution_count": 63,
   "metadata": {},
   "outputs": [
    {
     "name": "stdout",
     "output_type": "stream",
     "text": [
      "0.9500759242616753 0.9459526465848519\n",
      "(32269,) (8067,)\n"
     ]
    }
   ],
   "source": [
    "print(target_train.mean(), target_valid.mean())\n",
    "print(target_train.shape, target_valid.shape)\n"
   ]
  },
  {
   "cell_type": "code",
   "execution_count": 72,
   "metadata": {},
   "outputs": [
    {
     "name": "stdout",
     "output_type": "stream",
     "text": [
      "Learning rate set to 0.074744\n",
      "0:\tlearn: 0.5947937\ttest: 0.5961499\tbest: 0.5961499 (0)\ttotal: 7.51ms\tremaining: 7.5s\n",
      "10:\tlearn: 0.2321391\ttest: 0.2390389\tbest: 0.2390389 (10)\ttotal: 49ms\tremaining: 4.41s\n",
      "20:\tlearn: 0.1746115\ttest: 0.1808548\tbest: 0.1808548 (20)\ttotal: 87.5ms\tremaining: 4.08s\n",
      "30:\tlearn: 0.1597758\ttest: 0.1656701\tbest: 0.1656701 (30)\ttotal: 124ms\tremaining: 3.87s\n",
      "40:\tlearn: 0.1535034\ttest: 0.1598536\tbest: 0.1598536 (40)\ttotal: 161ms\tremaining: 3.77s\n",
      "50:\tlearn: 0.1493202\ttest: 0.1561547\tbest: 0.1561547 (50)\ttotal: 202ms\tremaining: 3.75s\n",
      "60:\tlearn: 0.1466040\ttest: 0.1543390\tbest: 0.1543390 (60)\ttotal: 238ms\tremaining: 3.67s\n",
      "70:\tlearn: 0.1444804\ttest: 0.1531845\tbest: 0.1531845 (70)\ttotal: 276ms\tremaining: 3.61s\n",
      "80:\tlearn: 0.1431430\ttest: 0.1528604\tbest: 0.1528236 (78)\ttotal: 310ms\tremaining: 3.52s\n",
      "90:\tlearn: 0.1416329\ttest: 0.1523980\tbest: 0.1523980 (90)\ttotal: 348ms\tremaining: 3.47s\n",
      "100:\tlearn: 0.1404707\ttest: 0.1519934\tbest: 0.1519934 (100)\ttotal: 383ms\tremaining: 3.4s\n",
      "110:\tlearn: 0.1391996\ttest: 0.1517576\tbest: 0.1517529 (108)\ttotal: 415ms\tremaining: 3.33s\n",
      "120:\tlearn: 0.1376004\ttest: 0.1512364\tbest: 0.1512090 (119)\ttotal: 449ms\tremaining: 3.26s\n",
      "130:\tlearn: 0.1365035\ttest: 0.1510596\tbest: 0.1510077 (128)\ttotal: 489ms\tremaining: 3.24s\n",
      "140:\tlearn: 0.1349599\ttest: 0.1508835\tbest: 0.1508835 (140)\ttotal: 525ms\tremaining: 3.2s\n",
      "150:\tlearn: 0.1337711\ttest: 0.1506396\tbest: 0.1506396 (150)\ttotal: 562ms\tremaining: 3.16s\n",
      "160:\tlearn: 0.1327004\ttest: 0.1506442\tbest: 0.1506396 (150)\ttotal: 599ms\tremaining: 3.12s\n",
      "170:\tlearn: 0.1313697\ttest: 0.1507013\tbest: 0.1505492 (167)\ttotal: 638ms\tremaining: 3.09s\n",
      "180:\tlearn: 0.1303382\ttest: 0.1506030\tbest: 0.1505492 (167)\ttotal: 671ms\tremaining: 3.03s\n",
      "190:\tlearn: 0.1293487\ttest: 0.1506241\tbest: 0.1505464 (183)\ttotal: 702ms\tremaining: 2.97s\n",
      "200:\tlearn: 0.1282632\ttest: 0.1507386\tbest: 0.1505464 (183)\ttotal: 734ms\tremaining: 2.92s\n",
      "210:\tlearn: 0.1273816\ttest: 0.1509542\tbest: 0.1505464 (183)\ttotal: 765ms\tremaining: 2.86s\n",
      "220:\tlearn: 0.1266231\ttest: 0.1509783\tbest: 0.1505464 (183)\ttotal: 797ms\tremaining: 2.81s\n",
      "230:\tlearn: 0.1257386\ttest: 0.1509444\tbest: 0.1505464 (183)\ttotal: 830ms\tremaining: 2.76s\n",
      "240:\tlearn: 0.1250287\ttest: 0.1509959\tbest: 0.1505464 (183)\ttotal: 864ms\tremaining: 2.72s\n",
      "250:\tlearn: 0.1242626\ttest: 0.1510438\tbest: 0.1505464 (183)\ttotal: 901ms\tremaining: 2.69s\n",
      "260:\tlearn: 0.1233302\ttest: 0.1509390\tbest: 0.1505464 (183)\ttotal: 937ms\tremaining: 2.65s\n",
      "270:\tlearn: 0.1225759\ttest: 0.1511107\tbest: 0.1505464 (183)\ttotal: 973ms\tremaining: 2.62s\n",
      "280:\tlearn: 0.1217419\ttest: 0.1510964\tbest: 0.1505464 (183)\ttotal: 1s\tremaining: 2.57s\n",
      "290:\tlearn: 0.1207831\ttest: 0.1512031\tbest: 0.1505464 (183)\ttotal: 1.04s\tremaining: 2.53s\n",
      "300:\tlearn: 0.1199236\ttest: 0.1510895\tbest: 0.1505464 (183)\ttotal: 1.08s\tremaining: 2.5s\n",
      "310:\tlearn: 0.1191361\ttest: 0.1510469\tbest: 0.1505464 (183)\ttotal: 1.12s\tremaining: 2.48s\n",
      "320:\tlearn: 0.1183378\ttest: 0.1510359\tbest: 0.1505464 (183)\ttotal: 1.15s\tremaining: 2.44s\n",
      "330:\tlearn: 0.1175089\ttest: 0.1511343\tbest: 0.1505464 (183)\ttotal: 1.2s\tremaining: 2.42s\n",
      "340:\tlearn: 0.1165878\ttest: 0.1511881\tbest: 0.1505464 (183)\ttotal: 1.24s\tremaining: 2.4s\n",
      "350:\tlearn: 0.1158649\ttest: 0.1512309\tbest: 0.1505464 (183)\ttotal: 1.28s\tremaining: 2.37s\n",
      "360:\tlearn: 0.1151594\ttest: 0.1512823\tbest: 0.1505464 (183)\ttotal: 1.36s\tremaining: 2.41s\n",
      "370:\tlearn: 0.1143106\ttest: 0.1510663\tbest: 0.1505464 (183)\ttotal: 1.4s\tremaining: 2.37s\n",
      "380:\tlearn: 0.1135723\ttest: 0.1509267\tbest: 0.1505464 (183)\ttotal: 1.43s\tremaining: 2.33s\n",
      "390:\tlearn: 0.1128832\ttest: 0.1508462\tbest: 0.1505464 (183)\ttotal: 1.47s\tremaining: 2.29s\n",
      "400:\tlearn: 0.1120395\ttest: 0.1509154\tbest: 0.1505464 (183)\ttotal: 1.51s\tremaining: 2.26s\n",
      "410:\tlearn: 0.1113964\ttest: 0.1511300\tbest: 0.1505464 (183)\ttotal: 1.55s\tremaining: 2.22s\n",
      "420:\tlearn: 0.1106412\ttest: 0.1511127\tbest: 0.1505464 (183)\ttotal: 1.59s\tremaining: 2.18s\n",
      "430:\tlearn: 0.1098908\ttest: 0.1511832\tbest: 0.1505464 (183)\ttotal: 1.63s\tremaining: 2.15s\n",
      "440:\tlearn: 0.1093581\ttest: 0.1512717\tbest: 0.1505464 (183)\ttotal: 1.67s\tremaining: 2.11s\n",
      "450:\tlearn: 0.1087569\ttest: 0.1512308\tbest: 0.1505464 (183)\ttotal: 1.7s\tremaining: 2.07s\n",
      "460:\tlearn: 0.1079680\ttest: 0.1512395\tbest: 0.1505464 (183)\ttotal: 1.74s\tremaining: 2.03s\n",
      "470:\tlearn: 0.1071586\ttest: 0.1512858\tbest: 0.1505464 (183)\ttotal: 1.78s\tremaining: 2s\n",
      "480:\tlearn: 0.1065063\ttest: 0.1512716\tbest: 0.1505464 (183)\ttotal: 1.82s\tremaining: 1.97s\n",
      "490:\tlearn: 0.1058464\ttest: 0.1513950\tbest: 0.1505464 (183)\ttotal: 1.86s\tremaining: 1.93s\n",
      "500:\tlearn: 0.1051236\ttest: 0.1515172\tbest: 0.1505464 (183)\ttotal: 1.9s\tremaining: 1.89s\n",
      "510:\tlearn: 0.1044571\ttest: 0.1515289\tbest: 0.1505464 (183)\ttotal: 1.94s\tremaining: 1.85s\n",
      "520:\tlearn: 0.1039199\ttest: 0.1515164\tbest: 0.1505464 (183)\ttotal: 1.97s\tremaining: 1.81s\n",
      "530:\tlearn: 0.1033183\ttest: 0.1515858\tbest: 0.1505464 (183)\ttotal: 2.01s\tremaining: 1.78s\n",
      "540:\tlearn: 0.1028316\ttest: 0.1516691\tbest: 0.1505464 (183)\ttotal: 2.05s\tremaining: 1.74s\n",
      "550:\tlearn: 0.1022617\ttest: 0.1517143\tbest: 0.1505464 (183)\ttotal: 2.08s\tremaining: 1.7s\n",
      "560:\tlearn: 0.1015744\ttest: 0.1517956\tbest: 0.1505464 (183)\ttotal: 2.12s\tremaining: 1.66s\n",
      "570:\tlearn: 0.1008509\ttest: 0.1518524\tbest: 0.1505464 (183)\ttotal: 2.16s\tremaining: 1.62s\n",
      "580:\tlearn: 0.1002794\ttest: 0.1517739\tbest: 0.1505464 (183)\ttotal: 2.2s\tremaining: 1.59s\n",
      "590:\tlearn: 0.0997025\ttest: 0.1518402\tbest: 0.1505464 (183)\ttotal: 2.24s\tremaining: 1.55s\n",
      "600:\tlearn: 0.0991107\ttest: 0.1518135\tbest: 0.1505464 (183)\ttotal: 2.27s\tremaining: 1.51s\n",
      "610:\tlearn: 0.0986349\ttest: 0.1517581\tbest: 0.1505464 (183)\ttotal: 2.31s\tremaining: 1.47s\n",
      "620:\tlearn: 0.0981026\ttest: 0.1518467\tbest: 0.1505464 (183)\ttotal: 2.35s\tremaining: 1.43s\n",
      "630:\tlearn: 0.0976603\ttest: 0.1519950\tbest: 0.1505464 (183)\ttotal: 2.39s\tremaining: 1.4s\n",
      "640:\tlearn: 0.0971482\ttest: 0.1520859\tbest: 0.1505464 (183)\ttotal: 2.42s\tremaining: 1.36s\n",
      "650:\tlearn: 0.0965769\ttest: 0.1521828\tbest: 0.1505464 (183)\ttotal: 2.46s\tremaining: 1.32s\n",
      "660:\tlearn: 0.0960698\ttest: 0.1522670\tbest: 0.1505464 (183)\ttotal: 2.5s\tremaining: 1.28s\n",
      "670:\tlearn: 0.0955502\ttest: 0.1523272\tbest: 0.1505464 (183)\ttotal: 2.53s\tremaining: 1.24s\n",
      "680:\tlearn: 0.0949458\ttest: 0.1524106\tbest: 0.1505464 (183)\ttotal: 2.57s\tremaining: 1.21s\n",
      "690:\tlearn: 0.0943425\ttest: 0.1524585\tbest: 0.1505464 (183)\ttotal: 2.61s\tremaining: 1.17s\n",
      "700:\tlearn: 0.0937876\ttest: 0.1525605\tbest: 0.1505464 (183)\ttotal: 2.65s\tremaining: 1.13s\n",
      "710:\tlearn: 0.0931369\ttest: 0.1526566\tbest: 0.1505464 (183)\ttotal: 2.69s\tremaining: 1.09s\n",
      "720:\tlearn: 0.0926607\ttest: 0.1526700\tbest: 0.1505464 (183)\ttotal: 2.72s\tremaining: 1.05s\n",
      "730:\tlearn: 0.0922073\ttest: 0.1527253\tbest: 0.1505464 (183)\ttotal: 2.76s\tremaining: 1.01s\n",
      "740:\tlearn: 0.0917184\ttest: 0.1526948\tbest: 0.1505464 (183)\ttotal: 2.8s\tremaining: 978ms\n",
      "750:\tlearn: 0.0911894\ttest: 0.1527007\tbest: 0.1505464 (183)\ttotal: 2.84s\tremaining: 940ms\n",
      "760:\tlearn: 0.0907200\ttest: 0.1527623\tbest: 0.1505464 (183)\ttotal: 2.87s\tremaining: 902ms\n",
      "770:\tlearn: 0.0902701\ttest: 0.1528618\tbest: 0.1505464 (183)\ttotal: 2.91s\tremaining: 865ms\n",
      "780:\tlearn: 0.0896803\ttest: 0.1528532\tbest: 0.1505464 (183)\ttotal: 2.95s\tremaining: 827ms\n",
      "790:\tlearn: 0.0892040\ttest: 0.1529469\tbest: 0.1505464 (183)\ttotal: 2.99s\tremaining: 790ms\n",
      "800:\tlearn: 0.0887016\ttest: 0.1529484\tbest: 0.1505464 (183)\ttotal: 3.02s\tremaining: 751ms\n",
      "810:\tlearn: 0.0881659\ttest: 0.1529732\tbest: 0.1505464 (183)\ttotal: 3.06s\tremaining: 714ms\n",
      "820:\tlearn: 0.0877479\ttest: 0.1529712\tbest: 0.1505464 (183)\ttotal: 3.11s\tremaining: 678ms\n",
      "830:\tlearn: 0.0872905\ttest: 0.1530883\tbest: 0.1505464 (183)\ttotal: 3.15s\tremaining: 640ms\n",
      "840:\tlearn: 0.0868266\ttest: 0.1532123\tbest: 0.1505464 (183)\ttotal: 3.18s\tremaining: 602ms\n",
      "850:\tlearn: 0.0862943\ttest: 0.1532955\tbest: 0.1505464 (183)\ttotal: 3.22s\tremaining: 564ms\n",
      "860:\tlearn: 0.0858545\ttest: 0.1533792\tbest: 0.1505464 (183)\ttotal: 3.26s\tremaining: 526ms\n",
      "870:\tlearn: 0.0854790\ttest: 0.1534629\tbest: 0.1505464 (183)\ttotal: 3.29s\tremaining: 488ms\n",
      "880:\tlearn: 0.0849806\ttest: 0.1533755\tbest: 0.1505464 (183)\ttotal: 3.33s\tremaining: 450ms\n",
      "890:\tlearn: 0.0844531\ttest: 0.1534049\tbest: 0.1505464 (183)\ttotal: 3.37s\tremaining: 412ms\n",
      "900:\tlearn: 0.0841349\ttest: 0.1534123\tbest: 0.1505464 (183)\ttotal: 3.41s\tremaining: 375ms\n",
      "910:\tlearn: 0.0836079\ttest: 0.1535919\tbest: 0.1505464 (183)\ttotal: 3.45s\tremaining: 337ms\n",
      "920:\tlearn: 0.0831572\ttest: 0.1537980\tbest: 0.1505464 (183)\ttotal: 3.48s\tremaining: 299ms\n",
      "930:\tlearn: 0.0826662\ttest: 0.1538260\tbest: 0.1505464 (183)\ttotal: 3.52s\tremaining: 261ms\n",
      "940:\tlearn: 0.0821829\ttest: 0.1539485\tbest: 0.1505464 (183)\ttotal: 3.56s\tremaining: 223ms\n",
      "950:\tlearn: 0.0818235\ttest: 0.1540511\tbest: 0.1505464 (183)\ttotal: 3.59s\tremaining: 185ms\n",
      "960:\tlearn: 0.0814430\ttest: 0.1541660\tbest: 0.1505464 (183)\ttotal: 3.63s\tremaining: 147ms\n",
      "970:\tlearn: 0.0810410\ttest: 0.1541791\tbest: 0.1505464 (183)\ttotal: 3.67s\tremaining: 110ms\n",
      "980:\tlearn: 0.0806883\ttest: 0.1542689\tbest: 0.1505464 (183)\ttotal: 3.7s\tremaining: 71.7ms\n",
      "990:\tlearn: 0.0802960\ttest: 0.1542865\tbest: 0.1505464 (183)\ttotal: 3.74s\tremaining: 34ms\n",
      "999:\tlearn: 0.0799339\ttest: 0.1544298\tbest: 0.1505464 (183)\ttotal: 3.78s\tremaining: 0us\n",
      "\n",
      "bestTest = 0.1505463785\n",
      "bestIteration = 183\n",
      "\n",
      "Shrink model to first 184 iterations.\n"
     ]
    },
    {
     "data": {
      "text/plain": [
       "<catboost.core.CatBoostClassifier at 0x16ae07310>"
      ]
     },
     "execution_count": 72,
     "metadata": {},
     "output_type": "execute_result"
    }
   ],
   "source": [
    "from catboost import CatBoostClassifier\n",
    "\n",
    "model = CatBoostClassifier()\n",
    "model.fit(df_train, target_train, eval_set=(df_valid, target_valid), verbose=10)\n"
   ]
  },
  {
   "cell_type": "code",
   "execution_count": 73,
   "metadata": {},
   "outputs": [
    {
     "name": "stdout",
     "output_type": "stream",
     "text": [
      "['temperature_2m', 'pressure_msl', 'relative_humidity_2m', 'weekday', 's10_sensor2_gramm_step1', 'shift', 's5_sensor0_sekunden (zeit)_step1', 's8_sensor32_millimeter_step1', 's8_sensor100_millimeter_step1', 's7_sensor26_mikroohm_step1']\n"
     ]
    }
   ],
   "source": [
    "# Show feature importance\n",
    "importances = model.get_feature_importance()\n",
    "feature_names = model.feature_names_\n",
    "sorted_idx = importances.argsort()[::-1]\n",
    "all_results = [\n",
    "    (feature_names[sorted_idx[i]], importances[sorted_idx[i]])\n",
    "    for i in range(len(feature_names))\n",
    "    # if \"_ok\" in feature_names[sorted_idx[i]]\n",
    "]\n",
    "# for name, imp in all_results[:30]:\n",
    "#     print(f\"{name}: {imp}\")\n",
    "\n",
    "top_features = [name for name, imp in all_results[:10]]\n",
    "print(top_features)\n"
   ]
  },
  {
   "cell_type": "code",
   "execution_count": 74,
   "metadata": {},
   "outputs": [
    {
     "data": {
      "image/png": "[encoded data removed]",
      "text/plain": [
       "<Figure size 640x480 with 1 Axes>"
      ]
     },
     "metadata": {},
     "output_type": "display_data"
    },
    {
     "data": {
      "image/png": "[encoded data removed]",
      "text/plain": [
       "<Figure size 640x480 with 1 Axes>"
      ]
     },
     "metadata": {},
     "output_type": "display_data"
    }
   ],
   "source": [
    "import matplotlib.pyplot as plt\n",
    "from sklearn.metrics import auc, roc_curve\n",
    "\n",
    "y_pred = model.predict_proba(df_train)[:, 1]\n",
    "fpr, tpr, thresholds = roc_curve(target_train, y_pred)\n",
    "roc_auc = auc(fpr, tpr)\n",
    "plt.title(f\"Train ROC (AUC = {roc_auc:.2f})\")\n",
    "plt.plot(fpr, tpr)\n",
    "plt.show()\n",
    "\n",
    "y_pred = model.predict_proba(df_valid)[:, 1]\n",
    "fpr, tpr, thresholds = roc_curve(target_valid, y_pred)\n",
    "roc_auc = auc(fpr, tpr)\n",
    "plt.title(f\"Validation ROC Curve (AUC = {roc_auc:.2f})\")\n",
    "plt.plot(fpr, tpr)\n",
    "plt.show()\n"
   ]
  },
  {
   "cell_type": "code",
   "execution_count": 77,
   "metadata": {},
   "outputs": [
    {
     "name": "stdout",
     "output_type": "stream",
     "text": [
      "(4482,)\n",
      "[0.96403337 0.98243899 0.96441066 0.98425425 0.98258085 0.92601225\n",
      " 0.41799628 0.97964349 0.99027482 0.99035877]\n"
     ]
    }
   ],
   "source": [
    "test_df = pd.read_csv(\"test.csv\")\n",
    "test_df = add_weather_data(test_df).drop(\n",
    "    columns=[\"message_timestamp\", \"physical_part_id\"]\n",
    ")\n",
    "test_df = test_df[important_columns]\n",
    "test_df = smart_normalizer.transform(test_df)\n",
    "y_pred = model.predict_proba(test_df)[:, 1]\n",
    "print(y_pred.shape)\n",
    "print(y_pred[:10])\n"
   ]
  },
  {
   "cell_type": "code",
   "execution_count": 78,
   "metadata": {},
   "outputs": [],
   "source": [
    "sample_submission = pd.read_csv(\"sample_submission.csv\")\n",
    "sample_submission[\"label\"] = y_pred\n",
    "sample_submission.to_csv(\"submission.csv\", index=False)\n"
   ]
  },
  {
   "cell_type": "code",
   "execution_count": 82,
   "metadata": {},
   "outputs": [
    {
     "data": {
      "text/plain": [
       "label\n",
       "False    4420\n",
       "True       62\n",
       "Name: count, dtype: int64"
      ]
     },
     "execution_count": 82,
     "metadata": {},
     "output_type": "execute_result"
    }
   ],
   "source": [
    "(sample_submission[\"label\"] < 0.5).value_counts()\n"
   ]
  }
 ],
 "metadata": {
  "kernelspec": {
   "display_name": "Python 3",
   "language": "python",
   "name": "python3"
  },
  "language_info": {
   "codemirror_mode": {
    "name": "ipython",
    "version": 3
   },
   "file_extension": ".py",
   "mimetype": "text/x-python",
   "name": "python",
   "nbconvert_exporter": "python",
   "pygments_lexer": "ipython3",
   "version": "3.10.14"
  }
 },
 "nbformat": 4,
 "nbformat_minor": 2
}
